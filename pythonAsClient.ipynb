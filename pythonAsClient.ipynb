{
 "cells": [
  {
   "cell_type": "markdown",
   "metadata": {},
   "source": [
    "### Method 1 : Getting results from the database through the GraphQL API"
   ]
  },
  {
   "cell_type": "code",
   "execution_count": 31,
   "metadata": {},
   "outputs": [],
   "source": [
    "## importing libraries\n",
    "import requests\n",
    "import json\n",
    "import pandas as pd\n",
    "from flask import Flask, render_template"
   ]
  },
  {
   "cell_type": "code",
   "execution_count": 32,
   "metadata": {},
   "outputs": [],
   "source": [
    "#defining the GraphQL query to get all employee nodes - with name and emp_id properties\n",
    "\n",
    "query = \"\"\"\n",
    "query {\n",
    "  employees {\n",
    "    name\n",
    "    emp_id\n",
    "  }\n",
    "}\n",
    "\"\"\""
   ]
  },
  {
   "cell_type": "code",
   "execution_count": 33,
   "metadata": {},
   "outputs": [
    {
     "name": "stdout",
     "output_type": "stream",
     "text": [
      "200\n",
      "{\"data\":{\"employees\":[{\"name\":\"Mick Doe\",\"emp_id\":101},{\"name\":\"Srav\",\"emp_id\":109},{\"name\":\"SRAV\",\"emp_id\":110},{\"name\":\"Mick Doe\",\"emp_id\":103},{\"name\":\"Sraf\",\"emp_id\":120},{\"name\":\"Mick Doe\",\"emp_id\":104},{\"name\":\"Mick Doe\",\"emp_id\":106},{\"name\":\"Sravani\",\"emp_id\":107},{\"name\":\"Sravani\",\"emp_id\":108}]}}\n",
      "\n"
     ]
    }
   ],
   "source": [
    "#submitting the query to our API and getting the data back\n",
    "url = 'http://localhost:4000/'\n",
    "r = requests.post(url, json={'query': query})\n",
    "print(r.status_code)\n",
    "print(r.text)"
   ]
  },
  {
   "cell_type": "code",
   "execution_count": 34,
   "metadata": {},
   "outputs": [],
   "source": [
    "#converting from json format to python dictionary\n",
    "json_data = json.loads(r.text)"
   ]
  },
  {
   "cell_type": "code",
   "execution_count": 35,
   "metadata": {},
   "outputs": [],
   "source": [
    "#putting the data in a dataframe for better readability\n",
    "df_data = json_data['data']['employees']\n",
    "df = pd.DataFrame(df_data)"
   ]
  },
  {
   "cell_type": "code",
   "execution_count": 36,
   "metadata": {},
   "outputs": [
    {
     "data": {
      "text/html": [
       "<div>\n",
       "<style scoped>\n",
       "    .dataframe tbody tr th:only-of-type {\n",
       "        vertical-align: middle;\n",
       "    }\n",
       "\n",
       "    .dataframe tbody tr th {\n",
       "        vertical-align: top;\n",
       "    }\n",
       "\n",
       "    .dataframe thead th {\n",
       "        text-align: right;\n",
       "    }\n",
       "</style>\n",
       "<table border=\"1\" class=\"dataframe\">\n",
       "  <thead>\n",
       "    <tr style=\"text-align: right;\">\n",
       "      <th></th>\n",
       "      <th>name</th>\n",
       "      <th>emp_id</th>\n",
       "    </tr>\n",
       "  </thead>\n",
       "  <tbody>\n",
       "    <tr>\n",
       "      <th>0</th>\n",
       "      <td>Mick Doe</td>\n",
       "      <td>101</td>\n",
       "    </tr>\n",
       "    <tr>\n",
       "      <th>1</th>\n",
       "      <td>Srav</td>\n",
       "      <td>109</td>\n",
       "    </tr>\n",
       "    <tr>\n",
       "      <th>2</th>\n",
       "      <td>SRAV</td>\n",
       "      <td>110</td>\n",
       "    </tr>\n",
       "    <tr>\n",
       "      <th>3</th>\n",
       "      <td>Mick Doe</td>\n",
       "      <td>103</td>\n",
       "    </tr>\n",
       "    <tr>\n",
       "      <th>4</th>\n",
       "      <td>Sraf</td>\n",
       "      <td>120</td>\n",
       "    </tr>\n",
       "    <tr>\n",
       "      <th>5</th>\n",
       "      <td>Mick Doe</td>\n",
       "      <td>104</td>\n",
       "    </tr>\n",
       "    <tr>\n",
       "      <th>6</th>\n",
       "      <td>Mick Doe</td>\n",
       "      <td>106</td>\n",
       "    </tr>\n",
       "    <tr>\n",
       "      <th>7</th>\n",
       "      <td>Sravani</td>\n",
       "      <td>107</td>\n",
       "    </tr>\n",
       "    <tr>\n",
       "      <th>8</th>\n",
       "      <td>Sravani</td>\n",
       "      <td>108</td>\n",
       "    </tr>\n",
       "  </tbody>\n",
       "</table>\n",
       "</div>"
      ],
      "text/plain": [
       "       name  emp_id\n",
       "0  Mick Doe     101\n",
       "1      Srav     109\n",
       "2      SRAV     110\n",
       "3  Mick Doe     103\n",
       "4      Sraf     120\n",
       "5  Mick Doe     104\n",
       "6  Mick Doe     106\n",
       "7   Sravani     107\n",
       "8   Sravani     108"
      ]
     },
     "execution_count": 36,
     "metadata": {},
     "output_type": "execute_result"
    }
   ],
   "source": [
    "df"
   ]
  },
  {
   "cell_type": "markdown",
   "metadata": {},
   "source": [
    "### Method 2 : Getting results directly from the database using the python driver"
   ]
  },
  {
   "cell_type": "code",
   "execution_count": 40,
   "metadata": {},
   "outputs": [
    {
     "name": "stdout",
     "output_type": "stream",
     "text": [
      "Found employee: Mick Doe, with Employee id: 101\n",
      "Found employee: Srav, with Employee id: 109\n",
      "Found employee: SRAV, with Employee id: 110\n",
      "Found employee: Mick Doe, with Employee id: 103\n",
      "Found employee: Sraf, with Employee id: 120\n",
      "Found employee: Mick Doe, with Employee id: 104\n",
      "Found employee: Mick Doe, with Employee id: 106\n",
      "Found employee: Sravani, with Employee id: 107\n",
      "Found employee: Sravani, with Employee id: 108\n"
     ]
    }
   ],
   "source": [
    "from neo4j import GraphDatabase\n",
    "\n",
    "class App:\n",
    "\n",
    "    def __init__(self, uri, user, password):\n",
    "        self.driver = GraphDatabase.driver(uri, auth=(user, password),encrypted=True)\n",
    "\n",
    "    def close(self):\n",
    "        self.driver.close()\n",
    "\n",
    "    def get_all_employees(self):\n",
    "        with self.driver.session() as session:\n",
    "            result = session.read_transaction(self.show_all_employees)\n",
    "            for row in result:\n",
    "                print(\"Found employee: {name}, with Employee id: {eid}\".format(name=row[0],eid=row[1]))\n",
    "\n",
    "    @staticmethod\n",
    "    def show_all_employees(tx):\n",
    "        query = (\n",
    "            \"MATCH (e:Employee) \"\n",
    "            \"RETURN e.name AS employee_name, e.emp_id as employee_id\"\n",
    "        )\n",
    "        result = tx.run(query)\n",
    "        return [row for row in result]\n",
    "\n",
    "\n",
    "if __name__ == \"__main__\":\n",
    "    uri = \"bolt://98627160.databases.neo4j.io\"\n",
    "    user = \"neo4j\"\n",
    "    password = \"password\"\n",
    "    app = App(uri, user, password)\n",
    "    app.get_all_employees()\n",
    "    app.close()"
   ]
  },
  {
   "cell_type": "code",
   "execution_count": null,
   "metadata": {},
   "outputs": [],
   "source": []
  },
  {
   "cell_type": "code",
   "execution_count": null,
   "metadata": {},
   "outputs": [],
   "source": []
  }
 ],
 "metadata": {
  "kernelspec": {
   "display_name": "Python 3 (ipykernel)",
   "language": "python",
   "name": "python3"
  },
  "language_info": {
   "codemirror_mode": {
    "name": "ipython",
    "version": 3
   },
   "file_extension": ".py",
   "mimetype": "text/x-python",
   "name": "python",
   "nbconvert_exporter": "python",
   "pygments_lexer": "ipython3",
   "version": "3.8.12"
  }
 },
 "nbformat": 4,
 "nbformat_minor": 4
}
