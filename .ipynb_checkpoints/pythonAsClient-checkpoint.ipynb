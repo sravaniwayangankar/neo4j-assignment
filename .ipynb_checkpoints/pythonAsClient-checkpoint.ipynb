{
 "cells": [
  {
   "cell_type": "markdown",
   "metadata": {},
   "source": [
    "### Method 1 : Getting results from the database through the GraphQL API"
   ]
  },
  {
   "cell_type": "code",
   "execution_count": 19,
   "metadata": {},
   "outputs": [],
   "source": [
    "## importing libraries\n",
    "import requests\n",
    "import json\n",
    "import pandas as pd"
   ]
  },
  {
   "cell_type": "code",
   "execution_count": 20,
   "metadata": {},
   "outputs": [],
   "source": [
    "url = 'http://34.121.185.229:4000'"
   ]
  },
  {
   "cell_type": "markdown",
   "metadata": {},
   "source": [
    "### PLEASE REPLACE THE NAMES (value for the key \"name\") AND THE EMPLOYEE ID ( value for the key \"emp_id\") OF THE NODES TO BE CREATED. <br> THE EMPLOYEE ID HAS A UNIQUENESS CONSTRAINT WHICH WILL GIVE AN ERROR IF IT ALREADY EXISTS IN THE DATABASE."
   ]
  },
  {
   "cell_type": "code",
   "execution_count": 21,
   "metadata": {},
   "outputs": [],
   "source": [
    "#defining GraphQL mutation to insert employee records as nodes with name and emp_id properties\n",
    "# The mutation will return newly created data\n",
    "\n",
    "mutation = \"\"\"\n",
    "mutation {\n",
    "    createEmployees(input: [\n",
    "        {\n",
    "            name: \"John Snow\"\n",
    "            emp_id: 103\n",
    "        }\n",
    "    ]) {\n",
    "        employees {\n",
    "            name\n",
    "            emp_id\n",
    "        }\n",
    "    }\n",
    "}\n",
    "\"\"\""
   ]
  },
  {
   "cell_type": "code",
   "execution_count": 22,
   "metadata": {},
   "outputs": [
    {
     "name": "stdout",
     "output_type": "stream",
     "text": [
      "200\n",
      "{\"data\":{\"createEmployees\":{\"employees\":[{\"name\":\"John Snow\",\"emp_id\":103}]}}}\n",
      "\n"
     ]
    }
   ],
   "source": [
    "#submitting the mutation to our API and getting the data back\n",
    "\n",
    "m = requests.post(url, json={'query': mutation})\n",
    "print(m.status_code)\n",
    "print(m.text)"
   ]
  },
  {
   "cell_type": "code",
   "execution_count": 23,
   "metadata": {},
   "outputs": [],
   "source": [
    "#defining the GraphQL query to get all employee nodes - with name and emp_id properties\n",
    "\n",
    "query = \"\"\"\n",
    "query {\n",
    "  employees {\n",
    "    name\n",
    "    emp_id\n",
    "  }\n",
    "}\n",
    "\"\"\""
   ]
  },
  {
   "cell_type": "code",
   "execution_count": 24,
   "metadata": {},
   "outputs": [
    {
     "name": "stdout",
     "output_type": "stream",
     "text": [
      "200\n",
      "{\"data\":{\"employees\":[{\"name\":\"Randall Monroe\",\"emp_id\":101},{\"name\":\"Jane Doe\",\"emp_id\":102},{\"name\":\"John Snow\",\"emp_id\":103}]}}\n",
      "\n"
     ]
    }
   ],
   "source": [
    "#submitting the query to our API and getting the data back\n",
    "\n",
    "q = requests.post(url, json={'query': query})\n",
    "print(q.status_code)\n",
    "print(q.text)"
   ]
  },
  {
   "cell_type": "code",
   "execution_count": 25,
   "metadata": {},
   "outputs": [],
   "source": [
    "#converting from json format to python dictionary\n",
    "json_data = json.loads(q.text)"
   ]
  },
  {
   "cell_type": "code",
   "execution_count": 26,
   "metadata": {},
   "outputs": [],
   "source": [
    "#putting the data in a dataframe for better readability\n",
    "df_data = json_data['data']['employees']\n",
    "df = pd.DataFrame(df_data)"
   ]
  },
  {
   "cell_type": "code",
   "execution_count": 27,
   "metadata": {},
   "outputs": [
    {
     "data": {
      "text/html": [
       "<div>\n",
       "<style scoped>\n",
       "    .dataframe tbody tr th:only-of-type {\n",
       "        vertical-align: middle;\n",
       "    }\n",
       "\n",
       "    .dataframe tbody tr th {\n",
       "        vertical-align: top;\n",
       "    }\n",
       "\n",
       "    .dataframe thead th {\n",
       "        text-align: right;\n",
       "    }\n",
       "</style>\n",
       "<table border=\"1\" class=\"dataframe\">\n",
       "  <thead>\n",
       "    <tr style=\"text-align: right;\">\n",
       "      <th></th>\n",
       "      <th>name</th>\n",
       "      <th>emp_id</th>\n",
       "    </tr>\n",
       "  </thead>\n",
       "  <tbody>\n",
       "    <tr>\n",
       "      <th>0</th>\n",
       "      <td>Randall Monroe</td>\n",
       "      <td>101</td>\n",
       "    </tr>\n",
       "    <tr>\n",
       "      <th>1</th>\n",
       "      <td>Jane Doe</td>\n",
       "      <td>102</td>\n",
       "    </tr>\n",
       "    <tr>\n",
       "      <th>2</th>\n",
       "      <td>John Snow</td>\n",
       "      <td>103</td>\n",
       "    </tr>\n",
       "  </tbody>\n",
       "</table>\n",
       "</div>"
      ],
      "text/plain": [
       "             name  emp_id\n",
       "0  Randall Monroe     101\n",
       "1        Jane Doe     102\n",
       "2       John Snow     103"
      ]
     },
     "execution_count": 27,
     "metadata": {},
     "output_type": "execute_result"
    }
   ],
   "source": [
    "df"
   ]
  },
  {
   "cell_type": "markdown",
   "metadata": {},
   "source": [
    "### Method 2 : Getting results directly from the database using the python driver"
   ]
  },
  {
   "cell_type": "code",
   "execution_count": 28,
   "metadata": {},
   "outputs": [
    {
     "name": "stdout",
     "output_type": "stream",
     "text": [
      "Found employee: Randall Monroe, with Employee id: 101\n",
      "Found employee: Jane Doe, with Employee id: 102\n",
      "Found employee: John Snow, with Employee id: 103\n"
     ]
    }
   ],
   "source": [
    "from neo4j import GraphDatabase\n",
    "\n",
    "class App:\n",
    "\n",
    "    def __init__(self, uri, user, password):\n",
    "        self.driver = GraphDatabase.driver(uri, auth=(user, password),encrypted=True)\n",
    "\n",
    "    def close(self):\n",
    "        self.driver.close()\n",
    "\n",
    "    def get_all_employees(self):\n",
    "        with self.driver.session() as session:\n",
    "            result = session.read_transaction(self.show_all_employees)\n",
    "            for row in result:\n",
    "                print(\"Found employee: {name}, with Employee id: {eid}\".format(name=row[0],eid=row[1]))\n",
    "\n",
    "    @staticmethod\n",
    "    def show_all_employees(tx):\n",
    "        query = (\n",
    "            \"MATCH (e:Employee) \"\n",
    "            \"RETURN e.name AS employee_name, e.emp_id as employee_id\"\n",
    "        )\n",
    "        result = tx.run(query)\n",
    "        return [row for row in result]\n",
    "\n",
    "\n",
    "if __name__ == \"__main__\":\n",
    "    uri = \"bolt://2a236cd7.databases.neo4j.io\"\n",
    "    user = \"neo4j\"\n",
    "    password = \"password\"\n",
    "    app = App(uri, user, password)\n",
    "    app.get_all_employees()\n",
    "    app.close()"
   ]
  }
 ],
 "metadata": {
  "kernelspec": {
   "display_name": "Python 3",
   "language": "python",
   "name": "python3"
  },
  "language_info": {
   "codemirror_mode": {
    "name": "ipython",
    "version": 3
   },
   "file_extension": ".py",
   "mimetype": "text/x-python",
   "name": "python",
   "nbconvert_exporter": "python",
   "pygments_lexer": "ipython3",
   "version": "3.6.2"
  }
 },
 "nbformat": 4,
 "nbformat_minor": 4
}
